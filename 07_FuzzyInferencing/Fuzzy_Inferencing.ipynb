{
 "cells": [
  {
   "cell_type": "code",
   "execution_count": null,
   "metadata": {},
   "outputs": [],
   "source": [
    "import numpy as np\n",
    "import matplotlib.pyplot as plt\n",
    "from matplotlib import cm\n",
    "import skfuzzy as fuzz\n",
    "from skfuzzy import control as ctrl\n",
    "from skfuzzy import defuzzify"
   ]
  },
  {
   "cell_type": "markdown",
   "metadata": {},
   "source": [
    "A service centre keeps spare parts and repairs\n",
    "parts. \n",
    "A customer brings a failed item and receives a spare of the same type spare of the same type.\n",
    "\n",
    "Failed parts are repaired by servers, placed on the shelf and thus become spares the shelf, and thus become spares.\n",
    "\n",
    "The objective here is to advise a manager of the service centre on certain decision policies to keep service centre on certain decision policies to keep te customers satisfied.\n",
    "\n",
    "Advise on the initial number of spares to keep Advise on the initial number of spares to keep delay reasonable\n",
    "\n",
    "[source](http://ce.sharif.edu/courses/92-93/1/ce957-1/resources/root/Lectures/Lecture6&7.pdf)"
   ]
  },
  {
   "attachments": {},
   "cell_type": "markdown",
   "metadata": {},
   "source": [
    "The fuzzy variables are defines with their sets as:\n",
    "![table.png](../images/07/variables_table.png)"
   ]
  },
  {
   "attachments": {},
   "cell_type": "markdown",
   "metadata": {},
   "source": [
    "The expected values are as shown below:\n",
    "\n",
    "**Mean Delay**\n",
    "\n",
    "![delay.png](../images/07/delay_membership.png)\n",
    "\n",
    "**Number of Servers**\n",
    "\n",
    "![servers.png](../images/07/servers_membership.png)\n",
    "\n",
    "**Repair Utilization factor**\n",
    "\n",
    "![repair.png](../images/07/util_membership.png)\n",
    "\n",
    "**Number of Spares**\n",
    "\n",
    "![spares.png](../images/07/spares_membership.png)"
   ]
  },
  {
   "cell_type": "code",
   "execution_count": null,
   "metadata": {},
   "outputs": [],
   "source": [
    "class FuzzySys():\n",
    "    def __init__(self):\n",
    "        self.init_fuzzy()\n",
    "        self.create_sys()\n",
    "\n",
    "    def init_fuzzy(self):\n",
    "        # Antecedent: Input\n",
    "        # Consequent: Output\n",
    "        universe = np.arange(0,1,0.05)\n",
    "        # New Antecedent/Consequent objects hold universe variables and membership\n",
    "        # functions\n",
    "        delay = ctrl.Antecedent(universe, 'delay')\n",
    "        servers = ctrl.Antecedent(universe, 'servers')\n",
    "        repairutil = ctrl.Antecedent(universe, 'repairutil')\n",
    "        spares = ctrl.Consequent(universe, 'spares')\n",
    "\n",
    "\n",
    "        # Assign membership functions\n",
    "        # Mean Delay Membership Functions\n",
    "        delay['VS'] = fuzz.zmf(universe, 0.1, 0.3)\n",
    "        delay['S'] = fuzz.trimf(universe, [0.1,0.3,0.5])\n",
    "        delay['M'] = fuzz.smf(universe, 0.4, 0.6)\n",
    "\n",
    "        # Servers membership functions\n",
    "        servers['S'] = fuzz.zmf(universe, 0.15, 0.35)\n",
    "        servers['M'] = fuzz.trimf(universe, [0.3,0.5,0.7])\n",
    "        servers['L'] = fuzz.smf(universe, 0.6, 0.8)\n",
    "\n",
    "        # repairutil\n",
    "        repairutil['L'] = fuzz.zmf(universe, 0.4, 0.6)\n",
    "        repairutil['M'] = fuzz.trimf(universe, [0.4,0.6,0.8])\n",
    "        repairutil['H'] = fuzz.smf(universe, 0.6, 0.8)\n",
    "        \n",
    "        # Membership function for spares\n",
    "        spares['VS'] = fuzz.zmf(universe, 0.1, 0.3)\n",
    "        spares['S'] = fuzz.trimf(universe, [0.0,0.2,0.4])\n",
    "        spares['RS'] = fuzz.trimf(universe, [0.25,0.35,0.45])\n",
    "        spares['M'] = fuzz.trimf(universe, [0.3,0.5,0.7])\n",
    "        spares['RL'] = fuzz.trimf(universe, [0.55,0.65,0.75])\n",
    "        spares['L'] = fuzz.trimf(universe, [0.6,0.8,1.0])\n",
    "        spares['VL'] = fuzz.smf(universe, 0.7, 0.9)\n",
    "        \n",
    "        \n",
    "        self.delay = delay\n",
    "        self.servers = servers\n",
    "        self.repairutil = repairutil\n",
    "        self.spares = spares\n",
    "\n",
    "    def visualize(self, var_name):\n",
    "        # Visualize the member functions using the *view()* method\n",
    "        if var_name == 'delay':   self.delay.view()\n",
    "        elif var_name == 'servers':    self.servers.view()\n",
    "        elif var_name == 'repairutil':       self.repairutil.view()\n",
    "        elif var_name == 'spares':       self.spares.view()\n",
    "\n",
    "    def setup_rules(self):\n",
    "        # Fuzzy Rules\n",
    "        rule1 = ctrl.Rule(self.repairutil['L'], self.spares['S'])\n",
    "        rule2 = ctrl.Rule(self.repairutil['M'], self.spares['M'])\n",
    "        rule3 = ctrl.Rule(self.repairutil['H'], self.spares['L'])\n",
    "\n",
    "        rule4 = ctrl.Rule(self.delay['VS'] & self.servers['S'], self.spares['VL'])\n",
    "        rule5 = ctrl.Rule(self.delay['S'] & self.servers['S'], self.spares['L'])\n",
    "        rule6 = ctrl.Rule(self.delay['M'] & self.servers['S'], self.spares['M'])\n",
    "        rule7 = ctrl.Rule(self.delay['VS'] & self.servers['M'], self.spares['RL'])\n",
    "        rule8 = ctrl.Rule(self.delay['S'] & self.servers['M'], self.spares['RS'])\n",
    "        rule9 = ctrl.Rule(self.delay['M'] & self.servers['M'], self.spares['S'])\n",
    "        rule10 = ctrl.Rule(self.delay['VS'] & self.servers['L'], self.spares['M'])\n",
    "        rule11 = ctrl.Rule(self.delay['S'] & self.servers['L'], self.spares['S'])\n",
    "        rule12 = ctrl.Rule(self.delay['M'] & self.servers['L'], self.spares['VS'])\n",
    "        \n",
    "        return [rule1, rule2, rule3, rule4, rule5, rule6, rule7, rule8, rule9, rule10, rule11, rule12]\n",
    "    \n",
    "    def create_sys(self):\n",
    "        # Create Control System (for inferencing)\n",
    "        self.center_ctrl = ctrl.ControlSystem(self.setup_rules())\n",
    "\n",
    "        # Create simulation\n",
    "        self.center_sim = ctrl.ControlSystemSimulation(self.center_ctrl)\n",
    "\n",
    "\n",
    "    def inference(self, delay, servers, repairutil):\n",
    "        # Provide inputs to the control simulation \n",
    "        self.center_sim.input['delay'] = delay\n",
    "        self.center_sim.input['servers'] = servers\n",
    "        self.center_sim.input['repairutil'] = repairutil\n",
    "        \n",
    "        # perform computation\n",
    "        self.center_sim.compute()\n",
    "        return self.center_sim.output['spares']"
   ]
  },
  {
   "cell_type": "markdown",
   "metadata": {},
   "source": [
    "The rules defined correspond to the following set of 12 rules:\n",
    "\n",
    "![rules_1.png](../images/07/rules_1.png)\n",
    "\n",
    "![rules_2.png](../images/07/rules_2.png)"
   ]
  },
  {
   "cell_type": "code",
   "execution_count": null,
   "metadata": {},
   "outputs": [],
   "source": [
    "# Creating the fuzzy system\n",
    "fuzzsys = FuzzySys()"
   ]
  },
  {
   "cell_type": "markdown",
   "metadata": {},
   "source": [
    "### Defined Membership Functions vs Required"
   ]
  },
  {
   "cell_type": "markdown",
   "metadata": {},
   "source": [
    "**Mean Delay**\n",
    "\n",
    "![delay.png](../images/07/delay_membership.png)"
   ]
  },
  {
   "cell_type": "code",
   "execution_count": null,
   "metadata": {
    "scrolled": true
   },
   "outputs": [],
   "source": [
    "fuzzsys.visualize('delay')"
   ]
  },
  {
   "cell_type": "markdown",
   "metadata": {},
   "source": [
    "**Servers**\n",
    "\n",
    "![servers.png](../images/07/servers_membership.png)"
   ]
  },
  {
   "cell_type": "code",
   "execution_count": null,
   "metadata": {
    "scrolled": true
   },
   "outputs": [],
   "source": [
    "fuzzsys.visualize('servers')"
   ]
  },
  {
   "cell_type": "markdown",
   "metadata": {},
   "source": [
    "**Repair Utilization factor**\n",
    "\n",
    "![repair.png](../images/07/util_membership.png)"
   ]
  },
  {
   "cell_type": "code",
   "execution_count": null,
   "metadata": {},
   "outputs": [],
   "source": [
    "fuzzsys.visualize('repairutil')"
   ]
  },
  {
   "cell_type": "markdown",
   "metadata": {},
   "source": [
    "**Number of Spares**\n",
    "\n",
    "![spares.png](../images/07/spares_membership.png)"
   ]
  },
  {
   "cell_type": "code",
   "execution_count": null,
   "metadata": {},
   "outputs": [],
   "source": [
    "fuzzsys.visualize('spares')"
   ]
  },
  {
   "cell_type": "markdown",
   "metadata": {},
   "source": [
    "## Inferencing"
   ]
  },
  {
   "cell_type": "code",
   "execution_count": null,
   "metadata": {},
   "outputs": [],
   "source": [
    "fuzzsys.inference(0.9,0.8,0.2)"
   ]
  },
  {
   "cell_type": "code",
   "execution_count": null,
   "metadata": {},
   "outputs": [],
   "source": [
    "Also refer to the documentation [here](https://pythonhosted.org/scikit-fuzzy/) and the [tipping problem](https://pythonhosted.org/scikit-fuzzy/auto_examples/plot_tipping_problem.html)"
   ]
  }
 ],
 "metadata": {
  "kernelspec": {
   "display_name": "Python 3",
   "language": "python",
   "name": "python3"
  },
  "language_info": {
   "codemirror_mode": {
    "name": "ipython",
    "version": 3
   },
   "file_extension": ".py",
   "mimetype": "text/x-python",
   "name": "python",
   "nbconvert_exporter": "python",
   "pygments_lexer": "ipython3",
   "version": "3.7.6"
  }
 },
 "nbformat": 4,
 "nbformat_minor": 2
}
