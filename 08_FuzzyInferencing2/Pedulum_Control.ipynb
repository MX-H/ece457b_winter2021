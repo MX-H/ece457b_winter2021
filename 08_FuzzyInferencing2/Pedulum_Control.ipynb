{
 "cells": [
  {
   "cell_type": "code",
   "execution_count": 2,
   "metadata": {},
   "outputs": [],
   "source": [
    "import numpy as np\n",
    "import matplotlib.pyplot as plt\n",
    "from matplotlib import cm\n",
    "import skfuzzy as fuzz\n",
    "from skfuzzy import control as ctrl\n",
    "from skfuzzy import defuzzify"
   ]
  },
  {
   "cell_type": "markdown",
   "metadata": {},
   "source": [
    "## Problem Statement\n",
    "\n",
    "* The process measurements are the angular position, about the vertical (ANG) and the angular velocity (VEL) of the pendulum.\n",
    "* The fuzzy logic controller determines the control action (CNT), i.e. the current of the motor driving the positioning trolley.\n",
    "* The objective of the fuzzy logic control is to keep the inverted pendulum upright.\n",
    "\n",
    "\n",
    "* Angular position takes two fuzzy states with a support set [-30 deg, 30 deg]:\n",
    "    * Positive large (PL)\n",
    "    * Negative large (NL)\n",
    "    \n",
    "* Angular velocity takes two fuzzy states with a support set [-60 deg/s, 60 deg/s]:\n",
    "    * Positive large (PL)\n",
    "    * Negative large (NL)\n",
    "    \n",
    "* Control action takes three fuzzy states [-3, 3]:\n",
    "    * Positive large (PL)\n",
    "    * No Change (NC)\n",
    "    * Negative large (NL)\n",
    "\n",
    "![prob.png](../images/08/PendulumControl.PNG)"
   ]
  },
  {
   "cell_type": "markdown",
   "metadata": {},
   "source": [
    "![prob2.png](../images/08/PendulumControl_statement.PNG)"
   ]
  },
  {
   "cell_type": "code",
   "execution_count": 20,
   "metadata": {},
   "outputs": [],
   "source": [
    "class FuzzySys():\n",
    "    def __init__(self):\n",
    "        self.init_fuzzy()\n",
    "        self.create_sys()\n",
    "\n",
    "    def init_fuzzy(self):\n",
    "        # Antecedent: Input\n",
    "        # Consequent: Output\n",
    "        ang_universe = np.arange(-30,30,0.5)\n",
    "        vel_universe = np.arange(-60,60,1.0)\n",
    "        cnt_universe = np.arange(-3.0, 3.0, 0.05)\n",
    "        \n",
    "        # New Antecedent/Consequent objects hold universe variables and membership\n",
    "        # functions\n",
    "        ang = ctrl.Antecedent(ang_universe, 'ang')\n",
    "        vel = ctrl.Antecedent(vel_universe, 'vel')\n",
    "        # Different defuzzification methods can be used, a full list can be found here\n",
    "        # https://pythonhosted.org/scikit-fuzzy/api/skfuzzy.defuzzify.html#skfuzzy.defuzzify.defuzz\n",
    "        cnt = ctrl.Consequent(cnt_universe, 'cnt', defuzzify_method='centroid')\n",
    "\n",
    "\n",
    "        # Assign membership functions\n",
    "        # Angle Membership Functions\n",
    "        ang['PL'] = fuzz.smf(ang_universe, -10, 20)\n",
    "        ang['NL'] = fuzz.zmf(ang_universe, -20, 10)\n",
    "\n",
    "        # ang velocity membership functions\n",
    "        vel['PL'] = fuzz.smf(vel_universe, -20, 40)\n",
    "        vel['NL'] = fuzz.zmf(vel_universe, -40, 20)\n",
    "\n",
    "        # Membership function for control action\n",
    "        cnt['PL'] = fuzz.smf(cnt_universe, 0, 2)\n",
    "        cnt['NC'] = fuzz.trimf(cnt_universe, [-2, 0, 2])\n",
    "        cnt['NL'] = fuzz.zmf(cnt_universe, -2, 0)        \n",
    "        \n",
    "        self.ang = ang\n",
    "        self.vel = vel\n",
    "        self.cnt = cnt\n",
    "\n",
    "    def visualize(self, var_name):\n",
    "        # Visualize the member functions using the *view()* method\n",
    "        if var_name == 'ang':   self.ang.view()\n",
    "        elif var_name == 'vel':    self.vel.view()\n",
    "        elif var_name == 'cnt':       self.cnt.view()\n",
    "\n",
    "    def setup_rules(self):\n",
    "        # Fuzzy Rules\n",
    "        \n",
    "        rule1 = ctrl.Rule(self.ang['PL'] & self.vel['PL'], self.cnt['NL'])\n",
    "        rule2 = ctrl.Rule(self.ang['PL'] & self.vel['NL'], self.cnt['NC'])\n",
    "        rule3 = ctrl.Rule(self.ang['NL'] & self.vel['PL'], self.cnt['NC'])\n",
    "        rule4 = ctrl.Rule(self.ang['NL'] & self.vel['NL'], self.cnt['PL'])\n",
    "        return [rule1, rule2, rule3, rule4]\n",
    "    \n",
    "    def create_sys(self):\n",
    "        # Create Control System (for inferencing)\n",
    "        self.center_ctrl = ctrl.ControlSystem(self.setup_rules())\n",
    "\n",
    "        # Create simulation\n",
    "        self.center_sim = ctrl.ControlSystemSimulation(self.center_ctrl)\n",
    "\n",
    "\n",
    "    def inference(self, ang, vel):\n",
    "        # Provide inputs to the control simulation \n",
    "        self.center_sim.input['ang'] = ang\n",
    "        self.center_sim.input['vel'] = vel\n",
    "        \n",
    "        # perform computation\n",
    "        self.center_sim.compute()\n",
    "        return self.center_sim.output['cnt']"
   ]
  },
  {
   "cell_type": "markdown",
   "metadata": {},
   "source": [
    "The rules defined correspond to the following set of 4 rules:\n",
    "\n",
    "Rules\n",
    "\n",
    "1.  If ANG is PL and VEL is PL then CNT is NL\n",
    "2. else if ANG is PL and VEL is NL then CNT is NC\n",
    "3. else if ANG is NL and VEL is PL then CNT is NC\n",
    "4. else if ANG is NL and VEL is NL then CNT is PL"
   ]
  },
  {
   "cell_type": "code",
   "execution_count": 21,
   "metadata": {},
   "outputs": [],
   "source": [
    "# Creating the fuzzy system\n",
    "fuzzsys = FuzzySys()"
   ]
  },
  {
   "cell_type": "markdown",
   "metadata": {},
   "source": [
    "### Defined Membership Functions\n",
    "\n",
    "**Angular Position**"
   ]
  },
  {
   "cell_type": "code",
   "execution_count": 22,
   "metadata": {
    "scrolled": true
   },
   "outputs": [
    {
     "name": "stderr",
     "output_type": "stream",
     "text": [
      "D:\\Programs\\Anaconda3\\envs\\ece457b_venv\\lib\\site-packages\\skfuzzy\\control\\fuzzyvariable.py:122: UserWarning: Matplotlib is currently using module://ipykernel.pylab.backend_inline, which is a non-GUI backend, so cannot show the figure.\n",
      "  fig.show()\n"
     ]
    },
    {
     "data": {
      "image/png": "[encoded data removed]",
      "text/plain": [
       "<Figure size 432x288 with 1 Axes>"
      ]
     },
     "metadata": {
      "needs_background": "light"
     },
     "output_type": "display_data"
    }
   ],
   "source": [
    "fuzzsys.visualize('ang')"
   ]
  },
  {
   "cell_type": "markdown",
   "metadata": {},
   "source": [
    "**Angular Velocity**"
   ]
  },
  {
   "cell_type": "code",
   "execution_count": 23,
   "metadata": {
    "scrolled": true
   },
   "outputs": [
    {
     "name": "stderr",
     "output_type": "stream",
     "text": [
      "D:\\Programs\\Anaconda3\\envs\\ece457b_venv\\lib\\site-packages\\skfuzzy\\control\\fuzzyvariable.py:122: UserWarning: Matplotlib is currently using module://ipykernel.pylab.backend_inline, which is a non-GUI backend, so cannot show the figure.\n",
      "  fig.show()\n"
     ]
    },
    {
     "data": {
      "image/png": "[encoded data removed]",
      "text/plain": [
       "<Figure size 432x288 with 1 Axes>"
      ]
     },
     "metadata": {
      "needs_background": "light"
     },
     "output_type": "display_data"
    }
   ],
   "source": [
    "fuzzsys.visualize('vel')"
   ]
  },
  {
   "cell_type": "markdown",
   "metadata": {},
   "source": [
    "**Cooling Rate**"
   ]
  },
  {
   "cell_type": "code",
   "execution_count": 24,
   "metadata": {},
   "outputs": [
    {
     "name": "stderr",
     "output_type": "stream",
     "text": [
      "D:\\Programs\\Anaconda3\\envs\\ece457b_venv\\lib\\site-packages\\skfuzzy\\control\\fuzzyvariable.py:122: UserWarning: Matplotlib is currently using module://ipykernel.pylab.backend_inline, which is a non-GUI backend, so cannot show the figure.\n",
      "  fig.show()\n"
     ]
    },
    {
     "data": {
      "image/png": "[encoded data removed]",
      "text/plain": [
       "<Figure size 432x288 with 1 Axes>"
      ]
     },
     "metadata": {
      "needs_background": "light"
     },
     "output_type": "display_data"
    }
   ],
   "source": [
    "fuzzsys.visualize('cnt')"
   ]
  },
  {
   "cell_type": "markdown",
   "metadata": {},
   "source": [
    "## Inferencing"
   ]
  },
  {
   "cell_type": "code",
   "execution_count": 25,
   "metadata": {},
   "outputs": [
    {
     "data": {
      "text/plain": [
       "-0.6093884582256665"
      ]
     },
     "execution_count": 25,
     "metadata": {},
     "output_type": "execute_result"
    }
   ],
   "source": [
    "fuzzsys.inference(15, 0)"
   ]
  },
  {
   "cell_type": "markdown",
   "metadata": {},
   "source": [
    "Also refer to the documentation [here](https://pythonhosted.org/scikit-fuzzy/) and the [tipping problem](https://pythonhosted.org/scikit-fuzzy/auto_examples/plot_tipping_problem.html)"
   ]
  }
 ],
 "metadata": {
  "kernelspec": {
   "display_name": "Python 3",
   "language": "python",
   "name": "python3"
  },
  "language_info": {
   "codemirror_mode": {
    "name": "ipython",
    "version": 3
   },
   "file_extension": ".py",
   "mimetype": "text/x-python",
   "name": "python",
   "nbconvert_exporter": "python",
   "pygments_lexer": "ipython3",
   "version": "3.7.6"
  }
 },
 "nbformat": 4,
 "nbformat_minor": 2
}
