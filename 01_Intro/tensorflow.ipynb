{
 "cells": [
  {
   "cell_type": "markdown",
   "metadata": {},
   "source": [
    "# Python Introduction: tensorflow\n",
    "\n",
    "\n",
    "**Import required packages**"
   ]
  },
  {
   "cell_type": "code",
   "execution_count": 1,
   "metadata": {},
   "outputs": [],
   "source": [
    "from __future__ import absolute_import, division, print_function, unicode_literals\n",
    "import tensorflow as tf\n",
    "import matplotlib.pyplot as plt\n",
    "import numpy as np\n",
    "import random"
   ]
  },
  {
   "cell_type": "markdown",
   "metadata": {},
   "source": [
    "It was reported that MacOS gives an error during the model.fit() function.\n",
    "\n",
    "To fix that error, please run the next cell"
   ]
  },
  {
   "cell_type": "code",
   "execution_count": null,
   "metadata": {},
   "outputs": [],
   "source": [
    "# # uncomment and run the following lines if you're using MacOS\n",
    "# import os\n",
    "\n",
    "# os.environ['KMP_DUPLICATE_LIB_OK']='True'"
   ]
  },
  {
   "cell_type": "markdown",
   "metadata": {},
   "source": [
    "Find out which version you have for tensorflow.\n",
    "\n",
    "We are currently utilizing Tensorflow 2.0 (or higher)"
   ]
  },
  {
   "cell_type": "code",
   "execution_count": 2,
   "metadata": {},
   "outputs": [
    {
     "name": "stdout",
     "output_type": "stream",
     "text": [
      "2.0.0\n"
     ]
    }
   ],
   "source": [
    "print(tf.__version__)"
   ]
  },
  {
   "cell_type": "markdown",
   "metadata": {},
   "source": [
    "## About the MNIST Dataset\n",
    "The MNIST dataset is a database of handwritten digits (0-9) that features 60,000 training images and 10,000 test images.\n",
    "\n",
    "All images are 28x28 pixels and are in grayscale. It serves as a good dataset to test various classification algorithms on.\n",
    "\n",
    "More information on the dataset can be found in __[Yann LeCun's MNIST Database](http://yann.lecun.com/exdb/mnist/)__"
   ]
  },
  {
   "cell_type": "code",
   "execution_count": 3,
   "metadata": {},
   "outputs": [
    {
     "name": "stdout",
     "output_type": "stream",
     "text": [
      "<class 'numpy.ndarray'>\n"
     ]
    }
   ],
   "source": [
    "# Load the mnist dataset using Keras (TF)\n",
    "mnist = tf.keras.datasets.mnist\n",
    "\n",
    "# Divide the dataset into train and test using load_data function\n",
    "(x_train, y_train), (x_test, y_test) = mnist.load_data()\n",
    "\n",
    "# Normalization\n",
    "x_train, x_test = x_train / 255.0, x_test / 255.0\n",
    "\n",
    "print(type(x_train))"
   ]
  },
  {
   "cell_type": "markdown",
   "metadata": {},
   "source": [
    "### Visualize the dataset\n",
    "Lets take a sample from each digit and visualize them"
   ]
  },
  {
   "cell_type": "code",
   "execution_count": 4,
   "metadata": {},
   "outputs": [
    {
     "data": {
      "image/png": "[encoded data removed]",
      "text/plain": [
       "<Figure size 432x288 with 10 Axes>"
      ]
     },
     "metadata": {
      "needs_background": "light"
     },
     "output_type": "display_data"
    }
   ],
   "source": [
    "# obtain all unique values of labels -- expected output [0-9]\n",
    "labels = set(y_test)\n",
    "\n",
    "i = 0\n",
    "for label in labels:\n",
    "    imgs = x_test[y_test==label]\n",
    "    img = imgs[0]\n",
    "    \n",
    "    # plot\n",
    "    plt.subplot(2,5,i+1)\n",
    "    plt.imshow(img)\n",
    "    plt.title('Digit %.f' %label)\n",
    "    plt.axis('off')\n",
    "    plt.subplots_adjust(wspace = 0.4)\n",
    "    i+=1\n"
   ]
  },
  {
   "cell_type": "markdown",
   "metadata": {},
   "source": [
    "Build a sequential neural network\n",
    "\n",
    "The network will be as follows:\n",
    "* Input later of size 784\n",
    "* Layer with 128 nodes with a relu activation function\n",
    "* A dropout layer with dropout probability of 0.2\n",
    "* A final Layer of size 10 with a softmax activation function"
   ]
  },
  {
   "cell_type": "code",
   "execution_count": 5,
   "metadata": {},
   "outputs": [
    {
     "name": "stdout",
     "output_type": "stream",
     "text": [
      "Model: \"sequential\"\n",
      "_________________________________________________________________\n",
      "Layer (type)                 Output Shape              Param #   \n",
      "=================================================================\n",
      "flatten (Flatten)            (None, 784)               0         \n",
      "_________________________________________________________________\n",
      "dense (Dense)                (None, 128)               100480    \n",
      "_________________________________________________________________\n",
      "dropout (Dropout)            (None, 128)               0         \n",
      "_________________________________________________________________\n",
      "dense_1 (Dense)              (None, 10)                1290      \n",
      "=================================================================\n",
      "Total params: 101,770\n",
      "Trainable params: 101,770\n",
      "Non-trainable params: 0\n",
      "_________________________________________________________________\n",
      "None\n"
     ]
    }
   ],
   "source": [
    "model = tf.keras.models.Sequential([\n",
    "  tf.keras.layers.Flatten(input_shape=(28, 28)),\n",
    "  tf.keras.layers.Dense(128, activation='relu'),\n",
    "  tf.keras.layers.Dropout(0.2),\n",
    "  tf.keras.layers.Dense(10, activation='softmax')\n",
    "])\n",
    "\n",
    "print(model.summary())"
   ]
  },
  {
   "cell_type": "markdown",
   "metadata": {},
   "source": [
    "Set the optimization package (algorithm) as adam and use a loss of spare categorical cross entropy. \n",
    "\n",
    "Use the accuracy (how often is the prediction correct) as the metric for the quality of output at each epoch.\n",
    "\n",
    "*What is the difference between the loss function and the metric?*"
   ]
  },
  {
   "cell_type": "code",
   "execution_count": 6,
   "metadata": {},
   "outputs": [],
   "source": [
    "# Compile the model\n",
    "model.compile(optimizer='adam',\n",
    "              loss='sparse_categorical_crossentropy',\n",
    "              metrics=['accuracy'])"
   ]
  },
  {
   "cell_type": "markdown",
   "metadata": {},
   "source": [
    "**What other optimizers, loss functions, and metrics are there?**:\n",
    "* __[Loss Functions](https://www.tensorflow.org/api_docs/python/tf/keras/losses)__\n",
    "* __[Metrics](https://www.tensorflow.org/api_docs/python/tf/keras/metrics)__\n",
    "* __[Optimizer](https://www.tensorflow.org/api_docs/python/tf/keras/optimizers)__"
   ]
  },
  {
   "cell_type": "markdown",
   "metadata": {},
   "source": [
    "Fit the model and evaluate the output accuracy"
   ]
  },
  {
   "cell_type": "code",
   "execution_count": 7,
   "metadata": {},
   "outputs": [
    {
     "name": "stdout",
     "output_type": "stream",
     "text": [
      "Train on 60000 samples\n",
      "Epoch 1/5\n",
      "60000/60000 [==============================] - 6s 94us/sample - loss: 0.3008 - accuracy: 0.9124\n",
      "Epoch 2/5\n",
      "60000/60000 [==============================] - 5s 81us/sample - loss: 0.1403 - accuracy: 0.9572\n",
      "Epoch 3/5\n",
      "60000/60000 [==============================] - 5s 75us/sample - loss: 0.1070 - accuracy: 0.9677\n",
      "Epoch 4/5\n",
      "60000/60000 [==============================] - 5s 80us/sample - loss: 0.0879 - accuracy: 0.9733\n",
      "Epoch 5/5\n",
      "60000/60000 [==============================] - 5s 75us/sample - loss: 0.0748 - accuracy: 0.9761\n",
      "10000/1 - 1s - loss: 0.0385 - accuracy: 0.9765\n"
     ]
    },
    {
     "data": {
      "text/plain": [
       "[0.07511392960115336, 0.9765]"
      ]
     },
     "execution_count": 7,
     "metadata": {},
     "output_type": "execute_result"
    }
   ],
   "source": [
    "model.fit(x_train, y_train, epochs=5)\n",
    "\n",
    "model.evaluate(x_test,  y_test, verbose=2)"
   ]
  },
  {
   "cell_type": "markdown",
   "metadata": {},
   "source": [
    "Explain output\n",
    "Show images! and classify"
   ]
  },
  {
   "cell_type": "code",
   "execution_count": 8,
   "metadata": {},
   "outputs": [
    {
     "data": {
      "image/png": "[encoded data removed]",
      "text/plain": [
       "<Figure size 432x288 with 10 Axes>"
      ]
     },
     "metadata": {
      "needs_background": "light"
     },
     "output_type": "display_data"
    }
   ],
   "source": [
    "# pick 10 random images to classify\n",
    "inds = random.sample([i for i in range(len(y_test))],10)\n",
    "\n",
    "# predict the classes for each of the picked images\n",
    "y_out = model.predict_classes(x_test[inds])\n",
    "\n",
    "i = 0\n",
    "for ind in inds:\n",
    "    # plot each digit along with its True Label (TL) and Predicted Label (PL)\n",
    "    img = x_test[ind]\n",
    "    plt.subplot(2,5,i+1)\n",
    "    plt.imshow(img)\n",
    "    plt.title('TL: %.f \\nPL: %.f' %(y_test[ind],y_out[i]))\n",
    "    plt.axis('off')\n",
    "    plt.subplots_adjust(wspace = 0.8)\n",
    "    i+=1"
   ]
  },
  {
   "cell_type": "markdown",
   "metadata": {},
   "source": [
    "# END OF TENSORFLOW INTRODUCTION"
   ]
  },
  {
   "cell_type": "code",
   "execution_count": null,
   "metadata": {},
   "outputs": [],
   "source": []
  }
 ],
 "metadata": {
  "kernelspec": {
   "display_name": "Python 3",
   "language": "python",
   "name": "python3"
  },
  "language_info": {
   "codemirror_mode": {
    "name": "ipython",
    "version": 3
   },
   "file_extension": ".py",
   "mimetype": "text/x-python",
   "name": "python",
   "nbconvert_exporter": "python",
   "pygments_lexer": "ipython3",
   "version": "3.7.6"
  }
 },
 "nbformat": 4,
 "nbformat_minor": 2
}
