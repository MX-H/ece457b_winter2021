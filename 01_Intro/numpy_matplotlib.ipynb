{
 "cells": [
  {
   "cell_type": "markdown",
   "metadata": {},
   "source": [
    "# Python Introduction: numpy and matplotlib\n",
    "This python notebook serves as an introduction to numpy and matplotlib and their different use cases\n",
    "\n",
    "**Import required packages**"
   ]
  },
  {
   "cell_type": "code",
   "execution_count": 1,
   "metadata": {},
   "outputs": [],
   "source": [
    "import numpy as np\n",
    "import matplotlib.pyplot as plt"
   ]
  },
  {
   "cell_type": "markdown",
   "metadata": {},
   "source": [
    "Create numpy arrays"
   ]
  },
  {
   "cell_type": "code",
   "execution_count": 2,
   "metadata": {},
   "outputs": [
    {
     "name": "stdout",
     "output_type": "stream",
     "text": [
      "[[ 1  2  3  4]\n",
      " [ 5  6  7  8]\n",
      " [ 9 10 11 12]]\n"
     ]
    }
   ],
   "source": [
    "# 1D array (rank =1)\n",
    "a = np.array([1, 2, 3])\n",
    "\n",
    "# 2D array (2x2)\n",
    "b = np.array([[1, 2],[3,4]])\n",
    "\n",
    "# 2D array (3x4)\n",
    "c = np.array([[1, 2, 3, 4],[5, 6, 7, 8],[9, 10, 11, 12]])\n",
    "print(c)"
   ]
  },
  {
   "cell_type": "markdown",
   "metadata": {},
   "source": [
    "**Explore numpy arrays**"
   ]
  },
  {
   "cell_type": "code",
   "execution_count": 3,
   "metadata": {},
   "outputs": [
    {
     "name": "stdout",
     "output_type": "stream",
     "text": [
      "2\n",
      "[  1 100   3]\n",
      "(2, 2)\n",
      "<class 'numpy.ndarray'>\n",
      "The element at the second row, third column is 7.\n"
     ]
    }
   ],
   "source": [
    "# find an element inside an array\n",
    "print(a[1])\n",
    "# change an element\n",
    "a[1] = 100\n",
    "print(a)\n",
    "\n",
    "print(b.shape)\n",
    "\n",
    "print(type(c))\n",
    "\n",
    "print(\"The element at the second row, third column is {}.\".format(c[1][2]))"
   ]
  },
  {
   "cell_type": "markdown",
   "metadata": {},
   "source": [
    "**Creating numpy arrays** (methods similar to MATLAB)"
   ]
  },
  {
   "cell_type": "code",
   "execution_count": 4,
   "metadata": {},
   "outputs": [
    {
     "name": "stdout",
     "output_type": "stream",
     "text": [
      "a = \n",
      "[[0. 0. 0.]\n",
      " [0. 0. 0.]]\n",
      "\n",
      "b = \n",
      "[[1. 1.]\n",
      " [1. 1.]\n",
      " [1. 1.]]\n",
      "\n",
      "c = \n",
      "[[8 8 8 8]\n",
      " [8 8 8 8]\n",
      " [8 8 8 8]\n",
      " [8 8 8 8]]\n",
      "\n",
      "e = \n",
      "[[0.69360103 0.61081334 0.971172  ]\n",
      " [0.41510069 0.22984327 0.70605944]\n",
      " [0.89881293 0.65055618 0.08914305]]\n",
      "\n"
     ]
    }
   ],
   "source": [
    "a = np.zeros((2,3))\n",
    "print(\"a = \\n{}\\n\".format(a))\n",
    "\n",
    "b = np.ones((3,2))\n",
    "print(\"b = \\n{}\\n\".format(b))\n",
    "\n",
    "c = np.full((4,4),8)\n",
    "print(\"c = \\n{}\\n\".format(c))\n",
    "\n",
    "e = np.random.random((3,3))\n",
    "print(\"e = \\n{}\\n\".format(e))"
   ]
  },
  {
   "cell_type": "markdown",
   "metadata": {},
   "source": [
    "Sum all elements of an array using a for loop"
   ]
  },
  {
   "cell_type": "code",
   "execution_count": 5,
   "metadata": {},
   "outputs": [
    {
     "name": "stdout",
     "output_type": "stream",
     "text": [
      "Sum by looping through indices: 128\n",
      "Sum by looping through elements: 128\n"
     ]
    }
   ],
   "source": [
    "s = 0\n",
    "for i in range(0,c.shape[0]):\n",
    "    for j in range(0,c.shape[1]):\n",
    "        s += c[i][j]\n",
    "\n",
    "print(\"Sum by looping through indices: %.f\" %s)\n",
    "\n",
    "s = 0\n",
    "for x in c:\n",
    "    for y in x:\n",
    "        s += y\n",
    "    \n",
    "print(\"Sum by looping through elements: %.f\" %s)"
   ]
  },
  {
   "cell_type": "markdown",
   "metadata": {},
   "source": [
    "Isn't there a faster way to sum?\n",
    "\n",
    "Take a few minutes to find a quick method to sum elements of a numpy array."
   ]
  },
  {
   "cell_type": "code",
   "execution_count": 6,
   "metadata": {},
   "outputs": [
    {
     "name": "stdout",
     "output_type": "stream",
     "text": [
      "128\n"
     ]
    }
   ],
   "source": [
    "z = np.sum(c)\n",
    "print(z)"
   ]
  },
  {
   "cell_type": "markdown",
   "metadata": {},
   "source": [
    "**Numpy Math**"
   ]
  },
  {
   "cell_type": "code",
   "execution_count": 7,
   "metadata": {},
   "outputs": [
    {
     "name": "stdout",
     "output_type": "stream",
     "text": [
      "[[7 7 7]\n",
      " [7 7 7]]\n",
      "[[0.16666667 0.4        0.75      ]\n",
      " [1.33333333 2.5        6.        ]]\n"
     ]
    }
   ],
   "source": [
    "x = np.array([[1,2,3],[4,5,6]])\n",
    "y = np.array([[6,5,4],[3,2,1]])\n",
    "\n",
    "z = x + y\n",
    "print(z)\n",
    "\n",
    "# division\n",
    "print(x/y)\n",
    "xy0 = x*y\n",
    "# * and / perform element-wise multiplication and division"
   ]
  },
  {
   "cell_type": "markdown",
   "metadata": {},
   "source": [
    "How can we multiply these 2 'matrices'?"
   ]
  },
  {
   "cell_type": "code",
   "execution_count": 8,
   "metadata": {},
   "outputs": [
    {
     "name": "stdout",
     "output_type": "stream",
     "text": [
      "[[ 58  64]\n",
      " [139 154]]\n"
     ]
    }
   ],
   "source": [
    "x = np.array([[1,2,3],[4,5,6]])\n",
    "y = np.array([[7,8],[9,10],[11,12]])\n",
    "\n",
    "xy = np.dot(x,y)\n",
    "print(xy)"
   ]
  },
  {
   "cell_type": "markdown",
   "metadata": {},
   "source": [
    "**PLOTTING**"
   ]
  },
  {
   "cell_type": "code",
   "execution_count": 9,
   "metadata": {},
   "outputs": [
    {
     "data": {
      "text/plain": [
       "<matplotlib.legend.Legend at 0x20cb1e27c08>"
      ]
     },
     "execution_count": 9,
     "metadata": {},
     "output_type": "execute_result"
    },
    {
     "data": {
      "image/png": "[encoded data removed]",
      "text/plain": [
       "<Figure size 432x288 with 1 Axes>"
      ]
     },
     "metadata": {
      "needs_background": "light"
     },
     "output_type": "display_data"
    }
   ],
   "source": [
    "x = np.linspace(0,2*np.pi,50)\n",
    "\n",
    "ysin = np.sin(x)\n",
    "ycos = np.cos(x)\n",
    "\n",
    "# plot\n",
    "plt.plot(x,ysin)\n",
    "plt.plot(x,ycos)\n",
    "plt.xlabel('x axis label')\n",
    "plt.ylabel('Trignometric Functions')\n",
    "plt.legend(['Sine','Cosine'])"
   ]
  },
  {
   "cell_type": "code",
   "execution_count": 10,
   "metadata": {},
   "outputs": [
    {
     "data": {
      "text/plain": [
       "Text(0.5, 1.0, 'Cosine')"
      ]
     },
     "execution_count": 10,
     "metadata": {},
     "output_type": "execute_result"
    },
    {
     "data": {
      "image/png": "[encoded data removed]",
      "text/plain": [
       "<Figure size 432x288 with 2 Axes>"
      ]
     },
     "metadata": {
      "needs_background": "light"
     },
     "output_type": "display_data"
    }
   ],
   "source": [
    "# subplotting\n",
    "\n",
    "\n",
    "# first plot\n",
    "plt.subplot(2,1,1)\n",
    "plt.plot(x,ysin)\n",
    "plt.title('Sine')\n",
    "\n",
    "# second plot\n",
    "plt.subplot(2,1,2)\n",
    "plt.plot(x,ycos)\n",
    "plt.title('Cosine')"
   ]
  },
  {
   "cell_type": "markdown",
   "metadata": {},
   "source": [
    "Quite similar to MATLAB, won't take a lot of time to get used to."
   ]
  },
  {
   "cell_type": "code",
   "execution_count": null,
   "metadata": {},
   "outputs": [],
   "source": []
  }
 ],
 "metadata": {
  "kernelspec": {
   "display_name": "Python 3",
   "language": "python",
   "name": "python3"
  },
  "language_info": {
   "codemirror_mode": {
    "name": "ipython",
    "version": 3
   },
   "file_extension": ".py",
   "mimetype": "text/x-python",
   "name": "python",
   "nbconvert_exporter": "python",
   "pygments_lexer": "ipython3",
   "version": "3.7.6"
  }
 },
 "nbformat": 4,
 "nbformat_minor": 2
}
