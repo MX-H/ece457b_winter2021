{
 "cells": [
  {
   "cell_type": "markdown",
   "metadata": {},
   "source": [
    "# ECE 457B - Tutorial 3\n",
    "\n",
    "1. Introduction to [Sklearn](https://scikit-learn.org/stable/index.html)\n",
    "2. The [IRIS dataset](https://archive.ics.uci.edu/ml/datasets/iris)\n",
    "3. Comparing Models"
   ]
  },
  {
   "cell_type": "code",
   "execution_count": 1,
   "metadata": {},
   "outputs": [],
   "source": [
    "import numpy as np\n",
    "\n",
    "from sklearn.datasets import load_iris\n",
    "from sklearn.model_selection import train_test_split\n",
    "from sklearn.preprocessing import OneHotEncoder, MinMaxScaler\n",
    "from sklearn.svm import SVC\n",
    "from sklearn.metrics import confusion_matrix, classification_report, ConfusionMatrixDisplay\n",
    "\n",
    "\n",
    "from tensorflow.keras.models import Sequential\n",
    "from tensorflow.keras.layers import Dense\n",
    "from tensorflow.keras.optimizers import Adam"
   ]
  },
  {
   "cell_type": "markdown",
   "metadata": {},
   "source": [
    "## Load and Explore Dataset\n",
    "\n",
    "Features\n",
    "1. sepal length in cm\n",
    "2. sepal width in cm\n",
    "3. petal length in cm\n",
    "4. petal width in cm\n",
    "\n",
    "\n",
    "Classes:\n",
    "1. Iris Setosa\n",
    "2. Iris Versicolour\n",
    "3. Iris Virginica\n",
    "\n",
    "\"One class is linearly separable from the other 2; the latter are NOT linearly separable from each other.\""
   ]
  },
  {
   "cell_type": "code",
   "execution_count": 2,
   "metadata": {},
   "outputs": [
    {
     "name": "stdout",
     "output_type": "stream",
     "text": [
      "Size of features: (150, 4)\n",
      "Size of labels: (150,)\n",
      "Sample data: [[5.1 3.5 1.4 0.2]\n",
      " [4.9 3.  1.4 0.2]\n",
      " [4.7 3.2 1.3 0.2]]\n",
      "Sample labels: [0 0 0]\n"
     ]
    }
   ],
   "source": [
    "iris = load_iris()\n",
    "x = iris.data\n",
    "y_ = iris.target\n",
    "\n",
    "print(\"Size of features: {}\".format(x.shape))\n",
    "print(\"Size of labels: {}\".format(y_.shape))\n",
    "\n",
    "print(\"Sample data: {}\".format(x[:3]))\n",
    "print(\"Sample labels: {}\".format(y_[:3]))\n",
    "\n",
    "class_names = ['setosa', 'versicolor', 'virginica']"
   ]
  },
  {
   "cell_type": "markdown",
   "metadata": {},
   "source": [
    "## Data Preprocessing and Preparation\n",
    "\n",
    "Let's explore how we can use sklearn for full data proprocessing\n",
    "\n",
    "1. Normalize the feature space\n",
    "2. For the purpose of using a neural network and since this is a classification problem, we will be using softmax activation in the output layer. For that, we will change the labels to be one-hot-encoded (sklearn)\n",
    "3. Lets use a 80-20 train-test split. For that, we'll use the train_test_split function from sklearn"
   ]
  },
  {
   "cell_type": "code",
   "execution_count": 3,
   "metadata": {},
   "outputs": [
    {
     "name": "stdout",
     "output_type": "stream",
     "text": [
      "Sample train data: [[0.22222222 0.625      0.06779661 0.04166667]\n",
      " [0.55555556 0.375      0.77966102 0.70833333]\n",
      " [0.52777778 0.375      0.55932203 0.5       ]]\n",
      "Sample train labels: [[1. 0. 0.]\n",
      " [0. 0. 1.]\n",
      " [0. 1. 0.]]\n"
     ]
    }
   ],
   "source": [
    "# Normalize the data\n",
    "X_norm = (x - x.min(axis=0)) / (x.max(axis=0) - x.min(axis=0))\n",
    "\n",
    "# One-hot encode the labels\n",
    "encoder = OneHotEncoder(sparse=False)\n",
    "\n",
    "# Split the data into training and testing\n",
    "train_x, test_x, train_y, test_y = train_test_split(X_norm, y_, test_size=0.20)\n",
    "\n",
    "train_y_enc = encoder.fit_transform(train_y.reshape(-1,1))\n",
    "test_y_enc = encoder.fit_transform(test_y.reshape(-1,1))\n",
    "\n",
    "print(\"Sample train data: {}\".format(train_x[:3]))\n",
    "print(\"Sample train labels: {}\".format(train_y_enc[:3]))"
   ]
  },
  {
   "cell_type": "markdown",
   "metadata": {},
   "source": [
    "## The Model"
   ]
  },
  {
   "cell_type": "code",
   "execution_count": 4,
   "metadata": {},
   "outputs": [
    {
     "name": "stdout",
     "output_type": "stream",
     "text": [
      "Model: \"sequential\"\n",
      "_________________________________________________________________\n",
      "Layer (type)                 Output Shape              Param #   \n",
      "=================================================================\n",
      "input (Dense)                (None, 10)                50        \n",
      "_________________________________________________________________\n",
      "hidden1 (Dense)              (None, 10)                110       \n",
      "_________________________________________________________________\n",
      "output (Dense)               (None, 3)                 33        \n",
      "=================================================================\n",
      "Total params: 193\n",
      "Trainable params: 193\n",
      "Non-trainable params: 0\n",
      "_________________________________________________________________\n",
      "None\n"
     ]
    }
   ],
   "source": [
    "# Build the model\n",
    "model = Sequential()\n",
    "\n",
    "model.add(Dense(10, input_shape=(4,), activation='relu', name='input'))\n",
    "model.add(Dense(10, activation='relu', name='hidden1'))\n",
    "model.add(Dense(3, activation='softmax', name='output'))\n",
    "\n",
    "print(model.summary())\n",
    "\n",
    "\n",
    "# Compile the model\n",
    "# Adam optimizer with learning rate of 0.001\n",
    "optimizer = Adam(lr=0.001)\n",
    "model.compile(optimizer, loss='categorical_crossentropy', metrics=['accuracy'])"
   ]
  },
  {
   "cell_type": "code",
   "execution_count": 5,
   "metadata": {},
   "outputs": [
    {
     "name": "stdout",
     "output_type": "stream",
     "text": [
      "Train on 120 samples\n",
      "Epoch 1/50\n",
      "120/120 [==============================] - 1s 5ms/sample - loss: 1.0820 - accuracy: 0.3333\n",
      "Epoch 2/50\n",
      "120/120 [==============================] - 0s 291us/sample - loss: 1.0435 - accuracy: 0.3667\n",
      "Epoch 3/50\n",
      "120/120 [==============================] - 0s 224us/sample - loss: 1.0070 - accuracy: 0.4500\n",
      "Epoch 4/50\n",
      "120/120 [==============================] - 0s 266us/sample - loss: 0.9793 - accuracy: 0.6250\n",
      "Epoch 5/50\n",
      "120/120 [==============================] - 0s 199us/sample - loss: 0.9512 - accuracy: 0.6667\n",
      "Epoch 6/50\n",
      "120/120 [==============================] - 0s 233us/sample - loss: 0.9174 - accuracy: 0.6667\n",
      "Epoch 7/50\n",
      "120/120 [==============================] - 0s 266us/sample - loss: 0.8803 - accuracy: 0.6667\n",
      "Epoch 8/50\n",
      "120/120 [==============================] - 0s 224us/sample - loss: 0.8398 - accuracy: 0.6667\n",
      "Epoch 9/50\n",
      "120/120 [==============================] - 0s 224us/sample - loss: 0.7986 - accuracy: 0.6583\n",
      "Epoch 10/50\n",
      "120/120 [==============================] - 0s 233us/sample - loss: 0.7557 - accuracy: 0.6667\n",
      "Epoch 11/50\n",
      "120/120 [==============================] - 0s 220us/sample - loss: 0.7112 - accuracy: 0.6583\n",
      "Epoch 12/50\n",
      "120/120 [==============================] - 0s 258us/sample - loss: 0.6694 - accuracy: 0.6583\n",
      "Epoch 13/50\n",
      "120/120 [==============================] - 0s 216us/sample - loss: 0.6294 - accuracy: 0.6667\n",
      "Epoch 14/50\n",
      "120/120 [==============================] - 0s 237us/sample - loss: 0.5931 - accuracy: 0.7000\n",
      "Epoch 15/50\n",
      "120/120 [==============================] - 0s 224us/sample - loss: 0.5612 - accuracy: 0.7000\n",
      "Epoch 16/50\n",
      "120/120 [==============================] - 0s 224us/sample - loss: 0.5334 - accuracy: 0.7167\n",
      "Epoch 17/50\n",
      "120/120 [==============================] - 0s 216us/sample - loss: 0.5035 - accuracy: 0.7917\n",
      "Epoch 18/50\n",
      "120/120 [==============================] - 0s 220us/sample - loss: 0.4818 - accuracy: 0.8750\n",
      "Epoch 19/50\n",
      "120/120 [==============================] - 0s 233us/sample - loss: 0.4633 - accuracy: 0.8500\n",
      "Epoch 20/50\n",
      "120/120 [==============================] - 0s 224us/sample - loss: 0.4454 - accuracy: 0.8917\n",
      "Epoch 21/50\n",
      "120/120 [==============================] - 0s 254us/sample - loss: 0.4268 - accuracy: 0.8583\n",
      "Epoch 22/50\n",
      "120/120 [==============================] - 0s 216us/sample - loss: 0.4055 - accuracy: 0.9250\n",
      "Epoch 23/50\n",
      "120/120 [==============================] - 0s 224us/sample - loss: 0.3921 - accuracy: 0.9417\n",
      "Epoch 24/50\n",
      "120/120 [==============================] - 0s 199us/sample - loss: 0.3771 - accuracy: 0.9500\n",
      "Epoch 25/50\n",
      "120/120 [==============================] - 0s 291us/sample - loss: 0.3656 - accuracy: 0.9333\n",
      "Epoch 26/50\n",
      "120/120 [==============================] - 0s 233us/sample - loss: 0.3521 - accuracy: 0.9583\n",
      "Epoch 27/50\n",
      "120/120 [==============================] - 0s 241us/sample - loss: 0.3405 - accuracy: 0.9583\n",
      "Epoch 28/50\n",
      "120/120 [==============================] - 0s 224us/sample - loss: 0.3278 - accuracy: 0.9583\n",
      "Epoch 29/50\n",
      "120/120 [==============================] - 0s 258us/sample - loss: 0.3187 - accuracy: 0.9750\n",
      "Epoch 30/50\n",
      "120/120 [==============================] - 0s 249us/sample - loss: 0.3041 - accuracy: 0.9583\n",
      "Epoch 31/50\n",
      "120/120 [==============================] - 0s 258us/sample - loss: 0.2943 - accuracy: 0.9583\n",
      "Epoch 32/50\n",
      "120/120 [==============================] - 0s 233us/sample - loss: 0.2826 - accuracy: 0.9667\n",
      "Epoch 33/50\n",
      "120/120 [==============================] - 0s 233us/sample - loss: 0.2734 - accuracy: 0.9750\n",
      "Epoch 34/50\n",
      "120/120 [==============================] - 0s 224us/sample - loss: 0.2653 - accuracy: 0.9750\n",
      "Epoch 35/50\n",
      "120/120 [==============================] - 0s 216us/sample - loss: 0.2571 - accuracy: 0.9583\n",
      "Epoch 36/50\n",
      "120/120 [==============================] - 0s 233us/sample - loss: 0.2448 - accuracy: 0.9667\n",
      "Epoch 37/50\n",
      "120/120 [==============================] - 0s 274us/sample - loss: 0.2380 - accuracy: 0.9667\n",
      "Epoch 38/50\n",
      "120/120 [==============================] - 0s 258us/sample - loss: 0.2288 - accuracy: 0.9750\n",
      "Epoch 39/50\n",
      "120/120 [==============================] - 0s 208us/sample - loss: 0.2188 - accuracy: 0.9833\n",
      "Epoch 40/50\n",
      "120/120 [==============================] - 0s 224us/sample - loss: 0.2127 - accuracy: 0.9750\n",
      "Epoch 41/50\n",
      "120/120 [==============================] - 0s 266us/sample - loss: 0.2037 - accuracy: 0.9667\n",
      "Epoch 42/50\n",
      "120/120 [==============================] - 0s 224us/sample - loss: 0.1971 - accuracy: 0.9833\n",
      "Epoch 43/50\n",
      "120/120 [==============================] - 0s 224us/sample - loss: 0.1890 - accuracy: 0.9833\n",
      "Epoch 44/50\n",
      "120/120 [==============================] - 0s 241us/sample - loss: 0.1823 - accuracy: 0.9833\n",
      "Epoch 45/50\n",
      "120/120 [==============================] - 0s 224us/sample - loss: 0.1810 - accuracy: 0.9667\n",
      "Epoch 46/50\n",
      "120/120 [==============================] - 0s 233us/sample - loss: 0.1734 - accuracy: 0.9667\n",
      "Epoch 47/50\n",
      "120/120 [==============================] - 0s 199us/sample - loss: 0.1693 - accuracy: 0.9667\n",
      "Epoch 48/50\n",
      "120/120 [==============================] - 0s 241us/sample - loss: 0.1670 - accuracy: 0.9750\n",
      "Epoch 49/50\n",
      "120/120 [==============================] - 0s 233us/sample - loss: 0.1555 - accuracy: 0.9750\n",
      "Epoch 50/50\n",
      "120/120 [==============================] - 0s 208us/sample - loss: 0.1517 - accuracy: 0.9750\n"
     ]
    },
    {
     "data": {
      "text/plain": [
       "<tensorflow.python.keras.callbacks.History at 0x2b9efde2348>"
      ]
     },
     "execution_count": 5,
     "metadata": {},
     "output_type": "execute_result"
    }
   ],
   "source": [
    "# Train the model\n",
    "model.fit(train_x, train_y_enc, verbose=1\n",
    "          , batch_size=5, epochs=50)"
   ]
  },
  {
   "cell_type": "code",
   "execution_count": 6,
   "metadata": {},
   "outputs": [
    {
     "name": "stdout",
     "output_type": "stream",
     "text": [
      "30/1 [====================================================================================================================================================================================================================================================================================================================================================================================================================================================================================================================================================================================================================================================================================================================================================================================================================================================================================================================================] - 0s 4ms/sample - loss: 0.1603 - accuracy: 0.9333\n",
      "Final test set loss: 0.160342\n",
      "Final test set accuracy: 0.933333\n"
     ]
    }
   ],
   "source": [
    "# Test on unseen data\n",
    "\n",
    "results = model.evaluate(test_x, test_y_enc)\n",
    "\n",
    "print('Final test set loss: {:4f}'.format(results[0]))\n",
    "print('Final test set accuracy: {:4f}'.format(results[1]))"
   ]
  },
  {
   "cell_type": "markdown",
   "metadata": {},
   "source": [
    "## Use Support Vector Machines"
   ]
  },
  {
   "cell_type": "code",
   "execution_count": 7,
   "metadata": {},
   "outputs": [
    {
     "name": "stdout",
     "output_type": "stream",
     "text": [
      "SVM Accuracy: 93.33333333333333%\n"
     ]
    }
   ],
   "source": [
    "# Using SVM (Also from sklearn)\n",
    "svm_ = SVC(gamma='auto')\n",
    "svm_.fit(train_x, train_y)\n",
    "\n",
    "y_svm = svm_.predict(test_x)\n",
    "acc_svm = sum([1 for i in range(0,len(test_y)) if test_y[i] == y_svm[i] ])/len(test_y)\n",
    "\n",
    "print(\"SVM Accuracy: {}%\".format(acc_svm*100))"
   ]
  },
  {
   "cell_type": "markdown",
   "metadata": {},
   "source": [
    "## Confusion Matrix"
   ]
  },
  {
   "cell_type": "code",
   "execution_count": 12,
   "metadata": {},
   "outputs": [
    {
     "name": "stdout",
     "output_type": "stream",
     "text": [
      "[[11  0  0]\n",
      " [ 0  8  1]\n",
      " [ 0  1  9]]\n",
      "              precision    recall  f1-score   support\n",
      "\n",
      "      setosa       1.00      1.00      1.00        11\n",
      "  versicolor       0.89      0.89      0.89         9\n",
      "   virginica       0.90      0.90      0.90        10\n",
      "\n",
      "    accuracy                           0.93        30\n",
      "   macro avg       0.93      0.93      0.93        30\n",
      "weighted avg       0.93      0.93      0.93        30\n",
      "\n"
     ]
    },
    {
     "data": {
      "text/plain": [
       "<sklearn.metrics._plot.confusion_matrix.ConfusionMatrixDisplay at 0x2b9f267af08>"
      ]
     },
     "execution_count": 12,
     "metadata": {},
     "output_type": "execute_result"
    },
    {
     "data": {
      "image/png": "[encoded data removed]",
      "text/plain": [
       "<Figure size 432x288 with 2 Axes>"
      ]
     },
     "metadata": {
      "needs_background": "light"
     },
     "output_type": "display_data"
    }
   ],
   "source": [
    "y_mlp = model.predict_classes(test_x)\n",
    "cm_mlp = confusion_matrix(test_y, y_mlp)\n",
    "print(cm_mlp)\n",
    "print(classification_report(test_y, y_mlp, target_names=class_names))\n",
    "\n",
    "disp1 = ConfusionMatrixDisplay(confusion_matrix=cm_mlp,display_labels=class_names)\n",
    "disp1.plot()"
   ]
  },
  {
   "cell_type": "code",
   "execution_count": 9,
   "metadata": {},
   "outputs": [
    {
     "name": "stdout",
     "output_type": "stream",
     "text": [
      "[[11  0  0]\n",
      " [ 0  9  0]\n",
      " [ 0  2  8]]\n",
      "              precision    recall  f1-score   support\n",
      "\n",
      "      setosa       1.00      1.00      1.00        11\n",
      "  versicolor       0.82      1.00      0.90         9\n",
      "   virginica       1.00      0.80      0.89        10\n",
      "\n",
      "    accuracy                           0.93        30\n",
      "   macro avg       0.94      0.93      0.93        30\n",
      "weighted avg       0.95      0.93      0.93        30\n",
      "\n"
     ]
    },
    {
     "data": {
      "text/plain": [
       "<sklearn.metrics._plot.confusion_matrix.ConfusionMatrixDisplay at 0x2b9f21b9d88>"
      ]
     },
     "execution_count": 9,
     "metadata": {},
     "output_type": "execute_result"
    },
    {
     "data": {
      "image/png": "[encoded data removed]",
      "text/plain": [
       "<Figure size 432x288 with 2 Axes>"
      ]
     },
     "metadata": {
      "needs_background": "light"
     },
     "output_type": "display_data"
    }
   ],
   "source": [
    "cm_svm = confusion_matrix(test_y, y_svm)\n",
    "print(cm_svm)\n",
    "print(classification_report(test_y, y_svm, target_names=class_names))\n",
    "\n",
    "disp2 = ConfusionMatrixDisplay(confusion_matrix=cm_svm,display_labels=class_names)\n",
    "disp2.plot()"
   ]
  },
  {
   "cell_type": "code",
   "execution_count": null,
   "metadata": {},
   "outputs": [],
   "source": []
  }
 ],
 "metadata": {
  "kernelspec": {
   "display_name": "Python 3",
   "language": "python",
   "name": "python3"
  },
  "language_info": {
   "codemirror_mode": {
    "name": "ipython",
    "version": 3
   },
   "file_extension": ".py",
   "mimetype": "text/x-python",
   "name": "python",
   "nbconvert_exporter": "python",
   "pygments_lexer": "ipython3",
   "version": "3.7.6"
  }
 },
 "nbformat": 4,
 "nbformat_minor": 2
}
